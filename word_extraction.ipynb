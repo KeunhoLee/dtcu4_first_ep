{
 "cells": [
  {
   "cell_type": "markdown",
   "id": "228b24f6",
   "metadata": {},
   "source": [
    "## 패키지 임포트"
   ]
  },
  {
   "cell_type": "code",
   "execution_count": 1,
   "id": "469f230c",
   "metadata": {},
   "outputs": [
    {
     "name": "stderr",
     "output_type": "stream",
     "text": [
      "2021-07-12 18:04:08.413884: W tensorflow/stream_executor/platform/default/dso_loader.cc:64] Could not load dynamic library 'libcudart.so.11.0'; dlerror: libcudart.so.11.0: cannot open shared object file: No such file or directory\n",
      "2021-07-12 18:04:08.414209: I tensorflow/stream_executor/cuda/cudart_stub.cc:29] Ignore above cudart dlerror if you do not have a GPU set up on your machine.\n",
      "2021-07-12 18:04:11.344489: W tensorflow/stream_executor/platform/default/dso_loader.cc:64] Could not load dynamic library 'libcuda.so.1'; dlerror: libcuda.so.1: cannot open shared object file: No such file or directory\n",
      "2021-07-12 18:04:11.344801: W tensorflow/stream_executor/cuda/cuda_driver.cc:326] failed call to cuInit: UNKNOWN ERROR (303)\n",
      "2021-07-12 18:04:11.345073: I tensorflow/stream_executor/cuda/cuda_diagnostics.cc:156] kernel driver does not appear to be running on this host (DESKTOP-KASKAO7): /proc/driver/nvidia/version does not exist\n",
      "2021-07-12 18:04:11.345763: I tensorflow/core/platform/cpu_feature_guard.cc:142] This TensorFlow binary is optimized with oneAPI Deep Neural Network Library (oneDNN) to use the following CPU instructions in performance-critical operations:  AVX2 FMA\n",
      "To enable them in other operations, rebuild TensorFlow with the appropriate compiler flags.\n"
     ]
    }
   ],
   "source": [
    "import sys\n",
    "from pykospacing import Spacing"
   ]
  },
  {
   "cell_type": "markdown",
   "id": "e88fe5d0",
   "metadata": {},
   "source": [
    "## Text 로드"
   ]
  },
  {
   "cell_type": "code",
   "execution_count": 120,
   "id": "637a3f7b",
   "metadata": {},
   "outputs": [
    {
     "name": "stdout",
     "output_type": "stream",
     "text": [
      "3544 Texts\n"
     ]
    }
   ],
   "source": [
    "corpus_fname = 'twitter_text.txt'\n",
    "\n",
    "with open(corpus_fname, 'r', encoding=\"cp949\") as f:\n",
    "    lines = f.readlines()\n",
    "    \n",
    "lines = [s.replace(\"\\n\", \"\").replace('\"', \"\") for s in lines][1:]\n",
    "lines = [s.upper() for s in lines][1:]\n",
    "\n",
    "print(len(lines), \"Texts\")"
   ]
  },
  {
   "cell_type": "markdown",
   "id": "2098fa67",
   "metadata": {},
   "source": [
    "## 띄어쓰기"
   ]
  },
  {
   "cell_type": "code",
   "execution_count": 121,
   "id": "317ff94a",
   "metadata": {},
   "outputs": [],
   "source": [
    "# spacing = Spacing(rules=\n",
    "#                   ['대탈출', '아스달', '피피엘', '피오', '신동', '유병재', '강호동', '김종민', '김동현', '노랑통닭', '여추반', '정종연', '아한'])"
   ]
  },
  {
   "cell_type": "code",
   "execution_count": 122,
   "id": "689835e8",
   "metadata": {},
   "outputs": [],
   "source": [
    "# spacing(lines[2])"
   ]
  },
  {
   "cell_type": "code",
   "execution_count": 123,
   "id": "b55582e1",
   "metadata": {},
   "outputs": [],
   "source": [
    "# %%time\n",
    "# lines = [spacing(s) for s in lines]"
   ]
  },
  {
   "cell_type": "code",
   "execution_count": 124,
   "id": "ced1ead1",
   "metadata": {},
   "outputs": [
    {
     "data": {
      "text/plain": [
       "['대탈출 살인감옥이랑 어둠의 별장이 재밌어',\n",
       " '우리같이 대탈출 봐여',\n",
       " '어뜩해 벌써부터 좋아 대탈출',\n",
       " '대탈출보고 찾아갈게요 좀만 기다려주세요',\n",
       " '대탈출 보러가자',\n",
       " '악 대탈출 보러가야해',\n",
       " '진리를 찾아서 대탈출',\n",
       " '대탈출 시즌 첫화는 아무리봐도 방송에 내보낼 수준이 아닌데 전파를 탔다는 건 제작진이 QA 능력을 상실했다고 본다 기준이 낮고 과도한 자만심은 결국 형편없는 결과로 돌아오고 데이터 피드백 또한 인간의 오류로 잘못된 해석을 만들어 끊임없는 수렁 속으로',\n",
       " '여기 대탈출 진심녀',\n",
       " '웅 훉아생일축하해 사랑헤 그래도내가어제 대탈출보다가 바로브이라이브달려갓서 웅웅',\n",
       " '본다 대탈출',\n",
       " '확진자 나왔다 닫힌 정문 부수고 수백명 대탈출 소동 베트남 공장 출처 매일경제 네이버 뉴스',\n",
       " '대탈출 보고올게',\n",
       " '다 대탈출 보네 나는 걍 놀다가 내일 밥 먹으면서 볼게',\n",
       " '대탈출 재밌어 보여 훙',\n",
       " '대탈출 전 백투더경성 오픈엔딩 날때부터 이미 기대 내려놓은 상태였고 이 이거 회수한대서 그냥 기대 놓고 과거시즌엔 이랬지 하면서 봤는데 다들 한마음 한뜻으로 부정적이라 내가 승자가 된 느낌 원래 지니어스 만들때부터 고집이 있는 사람이라 한번 꽂힌 걸 꺾을 사람 같지 않음',\n",
       " '대탈출 나는 타임머신 에피 계속한다고 했을때부터 예상한 바가 있어서 그냥저냥 재밌게 봤는데 다들 늘어져서 재미없다고 하는구나 여러분 그럴땐 유니버스의 다른 요소들을 즐기면서 봐요 이거 뫄뫄편에서 봤다던가 이 퍼즐 이렇게 풀면 안되냐던가',\n",
       " '어제 대탈출보면서 답답했던거 다들 답답했겠구나 싶음 안그래도 여 이랑 너무 비교되는거아닌가 최소한 복습은 하고왔어야하는거아닌지 스케일은 커졌는데 추리는 딱 두번했음 문여는거랑 목패얻는거',\n",
       " '대탈출 시작햇구나',\n",
       " '대탈출 때매 지언 서치하면 양지 빌런관련만 나왘',\n",
       " '어제 대탈출은 생각할수록 좀 실망이 컸음',\n",
       " '대탈출 시작부터 미쳐부럿는디',\n",
       " '대탈출 시작부터 머선일이고',\n",
       " '어제 대탈출 노잼이라 여추반 너무 보고싶다 여추반보고 저거 보니까 여추반멤들이 너무 그리움',\n",
       " '엊저라고 다 안된대 너희 그런 안일한 마음가짐으로 탈출을 하겠단거냐',\n",
       " '대탈출 스케일 미쳤네 진짜',\n",
       " '대탈출 시작햇네',\n",
       " 'N인데 이런거만 봄 사실 알쓸신잡이랑 대탈출 볼려고 티빙 결제함',\n",
       " '개짱나긴 하는데 걍 스토리들이 미친 것 같음 걍 제작진이 미춋음 즌 볼라면 일단 걍 즌 막화만 보고 일단 봐봐 그리고 즌 천천히 달려바 대탈출 자체가 재밋긴 함',\n",
       " '근데 난 원래 대탈출부터 개답답하다 생각햇는데 놀토 보면서 더 짱나졋음 개시러',\n",
       " '노노 그정돈 대탈출 유니버스라서 다 보면 재밋긴 함',\n",
       " '걔도 사람 자체로 보면 싫긴 한데 대탈출 내에선 걍 그럭저럭 문제 풀이를 해서 스루 가능하거든 근데',\n",
       " '고잉셉이나 대탈출이나 스케일과 재미는 정비례하지 않는다는걸 증명',\n",
       " '치킨때문이 아니었음 저런 피피엘은 솔직히 넣어도된다 생각함 왜냐면 미래에서 왔다고 증명해주는 음식을 멤버들에게 보여준거니까 근데 중간중간 인터뷰가 너무 많고 멤버들보다 어리버리한 NPC에 초점을 맞춘 편집이 문제였음 아마 대탈출 시즌 중에 제일 몰입도가 떨어지는 편이지 않을까 함',\n",
       " '어제 SBS 스페셜본다구 대탈출 안봤는데 평이 안좋네 오늘 재방보고 나도 욕할 것 같다',\n",
       " '전 불새재단처럼 대기업이 사실 만악의 근원이다 명문고가 사실 기밀시설이다 거기서 만드는 건 자아없는 강화병기다 이런 거에 환장하는 사람인데 하 대탈출이나 보렵니다',\n",
       " '대 탈출보자',\n",
       " '보다가 시간이 그렇게 빨리 갈 줄은 몰랐다고 대탈출 입덕함',\n",
       " '근데 대탈출 멤들 왜 복습안하고 오냐 진짜 이건 좀 아님 사전에 복습 얼마나 강조했는데 토끼풀 이름 들어도 모를 정도면 글로리 호텔 토끼풀 살사리꽃 하나비 주점 여웅 사장 동생 여호 철방회 수광선생 삿갓 쓴 남자 이런거라도 그래도 알아야지 하 진짜 얼척없내',\n",
       " '아 오늘 대탈출 첫방보고 있어요 지금 해요 제 최애 에피소드는 역시 살인감옥도 좋고 좀비시리즈도 좋아해요 과학관련보다는 무서운 쪽 선호합니다',\n",
       " '대탈출 그리고 자막도 이상해졌어 막 그런 짹감성 좀 유입된 기분이야 안돼 그런거 안되는거라고',\n",
       " '대탈출 애착러라 진짜 열심히 봤는데 적어도 오프닝을 이런 에피소드로 짜면 어쩌자는 솔직히 너무 노답이라고 생각했는데 세계관을 전부 다 다시 설명하는 느낌이라고 해야되나 시즌 가 아니라 시즌 오프닝 새로 문 여는 그런 느낌이여서 좀',\n",
       " '와 대탈출 시발 스케일 미쳣나 존나설렘',\n",
       " '와 고조선에 감자 가져다준게 김태임이구나 대탈출 유니버스미쳤다 시바',\n",
       " '대탈출은 정말 대탈출 팬들만 진심이지 멤들중 명빼곤 진심도 아닌거같다',\n",
       " '대탈출 SF세계관 솔직히 적당히 해야되는데 느낌상 또 할거같은게 오프닝에서 우주 나오는거 보고 와 이건 확정이다 싶었음 벌써 걱정임 그래도 미로탈출은 존잼각',\n",
       " '대탈출 존잼임 벌써',\n",
       " '한시간 뒤면 집가 집가면 대탈출봐야지',\n",
       " '대탈출 그냥 내일 티빙에서 다시보기로 봐야겟어',\n",
       " '먕먕이 오랜만이넹 대탈출 잘보구 먕먕이도 잘자',\n",
       " '알쓸신잡 궁금한 이야기 와이 실화탐사대 그알 가끔맨인블랙박스 대탈출 꼬꼬무 당혹사 이런 거 중독자임 이거 결방 되면 그 날 다리 떨면서 손톱 까득임',\n",
       " '헐 이거 안 봐 나 이런 거 중독자야 대탈출도',\n",
       " '어제 대탈출 솔직히 좀 많이 실망에 물음표 대잔치였는데 화인거 감안하려고 해도 경성에서 이어지는 화라 그것때문에더 실망이었는데 탈출 실패한건가 이 생각이 드네 분량 덜 나와서 편집 늘어지고 난장났던 무간교도소가 떠오른다',\n",
       " '대탈출 출연자들은 돈받고 촬영하는거 아니야 직무유기다 진짜 프로가 프로답지 못해서 실망',\n",
       " '아 대탈출 너무 설렌다',\n",
       " '갑자기 피피엘 몰입이 좀 깨지긴 했지만 대탈출은 봐줄 수 있어 진짜 갑자기 너무 이거 피피엘이에여 하는겈 코코콬',\n",
       " '좋아요 이제 보시면 대탈출을 안보실 수 없을껄료',\n",
       " '언니 술 못마시자나 대탈출 보면서는 아한사람들도 반한 바삭 한 소리가 나는 노란통닭이지',\n",
       " '아니 대탈출 은근 무서운편 많아 긴장하고 봐여할껄',\n",
       " '대탈출 과몰입은 언제나 환영이에여',\n",
       " '아 나랑 대탈출 주접 떨어줄 트친 없나 나 심각하게 과몰입 했는데 말 할 사람이 읎네',\n",
       " '아 대탈출 진짜 안보면 후회하는 예능 탑 쓰리다',\n",
       " '어제 대탈출이 너무 보고싶어서 보고잤는데 걍 스트리밍 서비스로보쟈',\n",
       " '왜 여추반으로 얻어낸 노란통닭 피피엘을 대탈출이 하고 있는거지',\n",
       " '대탈출자막바꼇나',\n",
       " '대탈출 앞부분만 봤는대 타임머신 스토리 이어가네 저렇게 확장되고 개방된 공간에서 하는거 별론데 지금까진 노잼 첫에피에서 제발 끝내길',\n",
       " '오늘 대탈출 하는구나 첨부터 못봤으니 내일 봐야지',\n",
       " '대탈출 오프닝 우리동네에서 찍었더라 울집나와서 깜놀',\n",
       " '야 여고추리반에사 재재가 노랑통닭 엄청 홍보햇는데 대탈출에 피피엘하네',\n",
       " '집가서 대탈출봐야죠',\n",
       " '친구랑 방탈출 얘기하는데 갑자기 공테를 가보고싶다는 거야 근데 이 친구가 극쫄이라 너 진짜 후회안하겠어 너 괜찮겠어 라고 물어보니 급 무서워졌다고 안하겠대',\n",
       " '연어 먹방하면서 대탈출보기',\n",
       " '진짜 어제 대탈출 레게노',\n",
       " '진짜 나도 대탈출 한번 해보고 싶다 나같으면 타임머신 기계 열자마자 기절할듯',\n",
       " '어제 대탈출에 아스달연대기 촬영지 나왔는데 갑자기 급 보고싶어서 다시 보는 중 다음 시즌 제발',\n",
       " '대탈출 민심 개떡락했네',\n",
       " '대탈출 추리 너무 못하니까 엔피씨한테 다 시킨거 아님 뭔가 그런 생각이 들어 원래 저런 가족 관계 같은것도 다 막 집 뒤지고 이러면서 하는건데 일단 세트장이 너무 넓고 그래서 그런가 장점이 마이너스가 된 느낌',\n",
       " '대탈출 지금 보고 있는데 대탈출 다봤는데 계속 거슬리던 부분들이 너무 부각됨 출연자들이 상황에 못하는것 같고 계속 신기해 이런것만 강조하고 스케일 대박 이러기만 하고 퀴즈 풀때 엄청 늘어짐 출연자들끼리도 답을 바로바로 안하고 나 알았어 이러고 시간 질질 끄는데',\n",
       " '대탈출인데 왜 탈출을 안하고 드라마를 찍냐구요 글구 자꾸 보조출연자들 등장하는 것도 영 별로',\n",
       " '대탈출 보고싶은데 티빙 이용권이 없음 시까지 기달려야함',\n",
       " '대탈출 시작했어',\n",
       " '악 몸은 괜찮아요 약 먹고 푹 쉬어요 대탈출은 나름 재밌었어요 스케일 짱 몸 아프신 게 먼저니까 든든히 챙겨먹고 푹 쉬세요',\n",
       " '나도 어제 대탈출보고 엄마코고는 소리땜시 잠 설침 내일은 기상 시다',\n",
       " '대탈출 시작한거 다들 아세혀 저는 그럼 이만',\n",
       " '대탈출 개노잼 타임머신 언제까지 우려먹을거임',\n",
       " '대탈출 PPL 빡치네 여추반에서 해야하는거 아님 여추반에서 돈 안받고 홍보 존나 했는데',\n",
       " '대탈출 욕 많이 먹네 근데 어젠 정말 루즈해지긴 했어 옛날에는 뭘 푸는게 중심이라 재밌었 느데 스토리텔링 위주가 되서 뭔가 싶음',\n",
       " '대탈출 시작라아아 대',\n",
       " '온님도 보시는군여 저 대탈출 짱 조아하는데 이번 편 넘 실망 추리가 너무 없어지고 수동적으로 바껴서',\n",
       " '대탈출 재밌어요',\n",
       " '정종연은 소사게의 한을 대탈출에서 풀려고 하는 게 분명하다',\n",
       " '대탈출 시청ING',\n",
       " '아 맞다 대탈출 보는 트친들과 못보는 트친들아 팬플 투표권 회수 잊지 말깅 배추가니까 틈틈히 얻장',\n",
       " '왜 아파아 대탈출 진짜 재방꼭보기 그래도 아프지말구',\n",
       " '어제 대탈출 뭐햇아',\n",
       " '헐 대박 대탈출 어제 했었네요 저도 봐야겠어용',\n",
       " '저는 대탈출 보면서 밥 먹을게여 다들 맛점하세요',\n",
       " '대탈출 화 문제점 스토리내용 복습 안함 과도한 PPL 연출 순간 개그프로인줄암 드문드문 몰입 끊어지는 자막 제일 문제 몰입깨지는 인터뷰들 명정도는 괜찮은데 인터뷰가 다 들어감 솔까 타임머신 시리즈 지루함이 없지않아 있음',\n",
       " '대탈출 보면서 느낀거 예능은 예능으로만 즐기자',\n",
       " '대탈출 꿀잼']"
      ]
     },
     "execution_count": 124,
     "metadata": {},
     "output_type": "execute_result"
    }
   ],
   "source": [
    "lines[:100]"
   ]
  },
  {
   "cell_type": "markdown",
   "id": "d7849d36",
   "metadata": {},
   "source": [
    "## 단어 추출"
   ]
  },
  {
   "cell_type": "code",
   "execution_count": 125,
   "id": "34fc7b4a",
   "metadata": {},
   "outputs": [
    {
     "name": "stdout",
     "output_type": "stream",
     "text": [
      "\r",
      "training ... (0 in 3544 sents) use memory 0.376 Gb\r",
      "training was done. used memory 0.377 Gb\n",
      "\r",
      " cohesion probabilities ... (1 in 977)\r",
      "all cohesion probabilities was computed. # words = 631\n",
      "\r",
      "all branching entropies was computed # words = 2719\n",
      "\r",
      "all accessor variety was computed # words = 2719\n",
      "CPU times: user 188 ms, sys: 0 ns, total: 188 ms\n",
      "Wall time: 185 ms\n"
     ]
    }
   ],
   "source": [
    "%%time\n",
    "\n",
    "from soynlp.word import WordExtractor\n",
    "\n",
    "word_extractor = WordExtractor(\n",
    "    max_left_length=6,\n",
    "    min_frequency=10,\n",
    "    min_cohesion_forward=0.02, \n",
    "    min_right_branching_entropy=0.0\n",
    ")\n",
    "\n",
    "word_extractor.train(lines)\n",
    "words = word_extractor.extract()"
   ]
  },
  {
   "cell_type": "code",
   "execution_count": 126,
   "id": "cb219f1d",
   "metadata": {},
   "outputs": [
    {
     "data": {
      "text/plain": [
       "772"
      ]
     },
     "execution_count": 126,
     "metadata": {},
     "output_type": "execute_result"
    }
   ],
   "source": [
    "len(words)"
   ]
  },
  {
   "cell_type": "code",
   "execution_count": 128,
   "id": "cad6001f",
   "metadata": {},
   "outputs": [
    {
     "name": "stdout",
     "output_type": "stream",
     "text": [
      "단어   (빈도수, cohesion, branching entropy)\n",
      "\n",
      "대탈출     (3569, 0.985, 4.069)\n",
      "탈출     (58, 0.967, 3.973)\n",
      "진짜     (217, 0.775, 2.840)\n",
      "너무     (159, 0.859, 2.701)\n",
      "스케일     (166, 0.816, 2.668)\n",
      "보고     (359, 0.361, 3.037)\n",
      "했는데     (28, 0.678, 2.228)\n",
      "근데     (69, 0.972, 1.816)\n",
      "시즌     (110, 0.297, 2.910)\n",
      "노랑통닭     (69, 0.818, 1.667)\n",
      "피피엘     (48, 0.670, 1.765)\n",
      "하는     (72, 0.301, 2.529)\n",
      "타임머신     (32, 0.928, 1.332)\n",
      "치킨     (35, 0.833, 1.369)\n",
      "존나     (42, 0.532, 1.754)\n",
      "별로     (18, 0.783, 1.358)\n",
      "호랑이     (35, 0.697, 1.461)\n",
      "혼자     (10, 1.000, 1.099)\n",
      "보는데     (51, 0.227, 2.567)\n",
      "사람     (75, 0.472, 1.814)\n",
      "대탈출은     (51, 0.240, 2.453)\n",
      "봐야     (116, 0.720, 1.327)\n",
      "열심히     (15, 0.685, 1.369)\n",
      "GT     (22, 1.000, 0.972)\n",
      "트위터     (23, 0.641, 1.366)\n",
      "부터     (17, 0.279, 2.168)\n",
      "완전     (21, 0.840, 1.061)\n",
      "대탈출이     (89, 0.289, 2.017)\n",
      "그냥     (57, 0.198, 2.366)\n",
      "재밌     (146, 0.459, 1.517)\n",
      "내일     (40, 0.357, 1.754)\n",
      "탐라     (47, 0.940, 0.774)\n",
      "지금     (109, 0.634, 1.156)\n",
      "빨리     (12, 1.000, 0.693)\n",
      "오늘     (181, 0.609, 1.186)\n",
      "세트장     (54, 0.604, 1.193)\n",
      "내가     (41, 0.366, 1.686)\n",
      "대탈출보     (188, 0.371, 1.646)\n",
      "하고     (36, 0.151, 2.509)\n",
      "한다     (61, 0.480, 1.349)\n",
      "시작     (118, 0.319, 1.756)\n",
      "많이     (32, 0.457, 1.386)\n",
      "기다     (101, 0.474, 1.330)\n",
      "PPL     (41, 0.915, 0.673)\n",
      "엄청     (22, 0.611, 1.061)\n",
      "얘들아     (17, 0.566, 1.112)\n",
      "출연     (48, 0.774, 0.766)\n",
      "보면서     (49, 0.222, 2.002)\n",
      "본방     (36, 0.404, 1.386)\n",
      "피오     (36, 0.336, 1.532)\n",
      "광고     (21, 0.778, 0.693)\n",
      "경성     (17, 0.773, 0.693)\n",
      "역시     (31, 0.775, 0.684)\n",
      "스토리     (38, 0.391, 1.330)\n",
      "티빙     (35, 0.473, 1.079)\n",
      "아스달     (59, 0.365, 1.336)\n",
      "대탈출에     (74, 0.272, 1.627)\n",
      "여고추리반     (31, 0.700, 0.673)\n",
      "두근두근     (11, 0.724, 0.637)\n",
      "보는     (199, 0.200, 1.922)\n",
      "연대기     (14, 0.505, 0.972)\n",
      "뭔가     (16, 0.444, 1.099)\n",
      "두근     (16, 0.552, 0.879)\n",
      "보다가     (34, 0.185, 1.921)\n",
      "미쳤다     (37, 0.402, 1.111)\n",
      "첫방     (43, 0.782, 0.429)\n",
      "출연진들     (13, 0.594, 0.693)\n",
      "탐라에     (21, 0.648, 0.598)\n",
      "방탈출     (23, 0.604, 0.637)\n",
      "얼마나     (14, 0.599, 0.637)\n",
      "좋아     (43, 0.413, 1.003)\n",
      "포기     (20, 0.556, 0.693)\n",
      "때문에     (10, 0.550, 0.693)\n",
      "없어     (25, 0.312, 1.242)\n",
      "본다     (38, 0.427, 0.927)\n",
      "멤버     (28, 0.778, 0.305)\n",
      "싶어     (11, 0.216, 1.574)\n",
      "대탈출을     (41, 0.223, 1.537)\n",
      "드디어     (38, 0.726, 0.349)\n",
      "촬영     (28, 1.000, 0.000)\n",
      "여추반     (31, 0.490, 0.693)\n",
      "봤는데     (12, 0.500, 0.673)\n",
      "여러분     (14, 0.329, 1.082)\n",
      "대탈     (3573, 0.971, -0.000)\n",
      "신동     (14, 0.333, 1.061)\n",
      "뭐야     (28, 0.350, 0.992)\n",
      "계속     (20, 0.465, 0.693)\n",
      "미친     (67, 0.293, 1.152)\n",
      "솔직     (12, 0.923, -0.000)\n",
      "NPC     (17, 0.922, 0.000)\n",
      "준비     (10, 0.909, -0.000)\n",
      "우리     (32, 0.451, 0.693)\n",
      "세트     (94, 0.635, 0.347)\n",
      "세계관     (31, 0.458, 0.673)\n",
      "무슨     (29, 0.377, 0.868)\n",
      "행복     (17, 0.895, -0.000)\n",
      "타임머     (32, 0.894, -0.000)\n",
      "프로     (16, 0.889, -0.000)\n",
      "솔직히     (10, 0.877, 0.000)\n",
      "타임     (35, 0.875, -0.000)\n"
     ]
    }
   ],
   "source": [
    "import math\n",
    "\n",
    "def word_score(score):\n",
    "    return (score.cohesion_forward * math.exp(score.right_branching_entropy))\n",
    "\n",
    "print('단어   (빈도수, cohesion, branching entropy)\\n')\n",
    "for word, score in sorted(words.items(), key=lambda x:word_score(x[1]), reverse=True)[:100]:\n",
    "    print('%s     (%d, %.3f, %.3f)' % (\n",
    "            word, \n",
    "            score.leftside_frequency, \n",
    "            score.cohesion_forward,\n",
    "            score.right_branching_entropy\n",
    "            )\n",
    "         )"
   ]
  },
  {
   "cell_type": "code",
   "execution_count": 130,
   "id": "332124e7",
   "metadata": {},
   "outputs": [
    {
     "name": "stdout",
     "output_type": "stream",
     "text": [
      "대탈출\tNNP\t2\n",
      "탈출\tNNP\t2\n",
      "진짜\tNNP\t2\n",
      "너무\tNNP\t2\n",
      "스케일\tNNP\t2\n",
      "보고\tNNP\t2\n",
      "했는데\tNNP\t2\n",
      "근데\tNNP\t2\n",
      "시즌\tNNP\t2\n",
      "노랑통닭\tNNP\t2\n",
      "피피엘\tNNP\t2\n",
      "하는\tNNP\t2\n",
      "타임머신\tNNP\t2\n",
      "치킨\tNNP\t2\n",
      "존나\tNNP\t2\n",
      "별로\tNNP\t2\n",
      "호랑이\tNNP\t2\n",
      "혼자\tNNP\t2\n",
      "보는데\tNNP\t2\n",
      "사람\tNNP\t2\n",
      "대탈출은\tNNP\t2\n",
      "봐야\tNNP\t2\n",
      "열심히\tNNP\t2\n",
      "GT\tNNP\t2\n",
      "트위터\tNNP\t2\n",
      "부터\tNNP\t2\n",
      "완전\tNNP\t2\n",
      "대탈출이\tNNP\t2\n",
      "그냥\tNNP\t2\n",
      "재밌\tNNP\t2\n",
      "내일\tNNP\t2\n",
      "탐라\tNNP\t2\n",
      "지금\tNNP\t2\n",
      "빨리\tNNP\t2\n",
      "오늘\tNNP\t2\n",
      "세트장\tNNP\t2\n",
      "내가\tNNP\t2\n",
      "대탈출보\tNNP\t2\n",
      "하고\tNNP\t2\n",
      "한다\tNNP\t2\n",
      "시작\tNNP\t2\n",
      "많이\tNNP\t2\n",
      "기다\tNNP\t2\n",
      "PPL\tNNP\t2\n",
      "엄청\tNNP\t2\n",
      "얘들아\tNNP\t2\n",
      "출연\tNNP\t2\n",
      "보면서\tNNP\t2\n",
      "본방\tNNP\t2\n",
      "피오\tNNP\t2\n",
      "광고\tNNP\t2\n",
      "경성\tNNP\t2\n",
      "역시\tNNP\t2\n",
      "스토리\tNNP\t2\n",
      "티빙\tNNP\t2\n",
      "아스달\tNNP\t2\n",
      "대탈출에\tNNP\t2\n",
      "여고추리반\tNNP\t2\n",
      "두근두근\tNNP\t2\n",
      "보는\tNNP\t2\n",
      "연대기\tNNP\t2\n",
      "뭔가\tNNP\t2\n",
      "두근\tNNP\t2\n",
      "보다가\tNNP\t2\n",
      "미쳤다\tNNP\t2\n",
      "첫방\tNNP\t2\n",
      "출연진들\tNNP\t2\n",
      "탐라에\tNNP\t2\n",
      "방탈출\tNNP\t2\n",
      "얼마나\tNNP\t2\n",
      "좋아\tNNP\t2\n",
      "포기\tNNP\t2\n",
      "때문에\tNNP\t2\n",
      "없어\tNNP\t2\n",
      "본다\tNNP\t2\n",
      "멤버\tNNP\t2\n",
      "싶어\tNNP\t2\n",
      "대탈출을\tNNP\t2\n",
      "드디어\tNNP\t2\n",
      "촬영\tNNP\t2\n",
      "여추반\tNNP\t2\n",
      "봤는데\tNNP\t2\n",
      "여러분\tNNP\t2\n",
      "대탈\tNNP\t2\n",
      "신동\tNNP\t2\n",
      "뭐야\tNNP\t2\n",
      "계속\tNNP\t2\n",
      "미친\tNNP\t2\n",
      "솔직\tNNP\t2\n",
      "NPC\tNNP\t2\n",
      "준비\tNNP\t2\n",
      "우리\tNNP\t2\n",
      "세트\tNNP\t2\n",
      "세계관\tNNP\t2\n",
      "무슨\tNNP\t2\n",
      "행복\tNNP\t2\n",
      "타임머\tNNP\t2\n",
      "프로\tNNP\t2\n",
      "솔직히\tNNP\t2\n",
      "타임\tNNP\t2\n"
     ]
    }
   ],
   "source": [
    "for word, score in sorted(words.items(), key=lambda x:word_score(x[1]), reverse=True)[:100]:\n",
    "    print('%s\\t%s\\t%d' % (\n",
    "            word,\n",
    "            \"NNP\",\n",
    "            2\n",
    "         )\n",
    "         )"
   ]
  },
  {
   "cell_type": "code",
   "execution_count": null,
   "id": "8cdfe11d",
   "metadata": {},
   "outputs": [],
   "source": []
  }
 ],
 "metadata": {
  "kernelspec": {
   "display_name": "Python 3 (ipykernel)",
   "language": "python",
   "name": "python3"
  },
  "language_info": {
   "codemirror_mode": {
    "name": "ipython",
    "version": 3
   },
   "file_extension": ".py",
   "mimetype": "text/x-python",
   "name": "python",
   "nbconvert_exporter": "python",
   "pygments_lexer": "ipython3",
   "version": "3.8.0"
  }
 },
 "nbformat": 4,
 "nbformat_minor": 5
}
